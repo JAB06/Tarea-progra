{
  "nbformat": 4,
  "nbformat_minor": 0,
  "metadata": {
    "colab": {
      "provenance": [],
      "authorship_tag": "ABX9TyOw4kaTrCg25p/JzvzR3sql",
      "include_colab_link": true
    },
    "kernelspec": {
      "name": "python3",
      "display_name": "Python 3"
    },
    "language_info": {
      "name": "python"
    }
  },
  "cells": [
    {
      "cell_type": "markdown",
      "metadata": {
        "id": "view-in-github",
        "colab_type": "text"
      },
      "source": [
        "<a href=\"https://colab.research.google.com/github/JAB06/Tarea-progra/blob/main/tarea_cibernetica.ipynb\" target=\"_parent\"><img src=\"https://colab.research.google.com/assets/colab-badge.svg\" alt=\"Open In Colab\"/></a>"
      ]
    },
    {
      "source": [
        "def es_primo(n):\n",
        "  if n <= 1:\n",
        "    return False\n",
        "  for i in range(2, int(n**0.5) + 1):\n",
        "    if n % i == 0:\n",
        "      return False  # Si es divisible, no es primo\n",
        "\n",
        "  return True"
      ],
      "cell_type": "code",
      "metadata": {
        "id": "aucEsOZNEv1p"
      },
      "execution_count": 49,
      "outputs": []
    },
    {
      "cell_type": "code",
      "source": [
        "print (es_primo(0))"
      ],
      "metadata": {
        "colab": {
          "base_uri": "https://localhost:8080/"
        },
        "id": "_nMTMkOuFMsh",
        "outputId": "e4a6c30b-aa35-4c86-a1f4-f6b6f58a439e"
      },
      "execution_count": 52,
      "outputs": [
        {
          "output_type": "stream",
          "name": "stdout",
          "text": [
            "False\n"
          ]
        }
      ]
    },
    {
      "cell_type": "code",
      "source": [
        "def primos_en_lista (lista):\n",
        "  primos = []\n",
        "  for num in lista:\n",
        "    if es_primo(num):\n",
        "      primos.append(num)\n",
        "  return primos"
      ],
      "metadata": {
        "id": "bd1is-FPFXQE"
      },
      "execution_count": 61,
      "outputs": []
    },
    {
      "cell_type": "code",
      "source": [
        "primos_en_lista ([25,68,95,856,7655,4,3,3,45,6,67])"
      ],
      "metadata": {
        "colab": {
          "base_uri": "https://localhost:8080/"
        },
        "id": "m3KWDlteFqWV",
        "outputId": "495cb538-52b4-450f-ec2f-bc1ec1b6518c"
      },
      "execution_count": 62,
      "outputs": [
        {
          "output_type": "execute_result",
          "data": {
            "text/plain": [
              "[3, 3, 67]"
            ]
          },
          "metadata": {},
          "execution_count": 62
        }
      ]
    },
    {
      "cell_type": "code",
      "source": [
        "def estadisticas(lista):\n",
        "  suma = sum(lista)\n",
        "  media = suma / len(lista)\n",
        "  maximo = max(lista)\n",
        "  minimo = min(lista)\n",
        "  return suma, media, maximo, minimo"
      ],
      "metadata": {
        "id": "7L4S6E1pG9GX"
      },
      "execution_count": 70,
      "outputs": []
    },
    {
      "cell_type": "code",
      "source": [
        "estadisticas([2,5,3,6,7,8,5,3])"
      ],
      "metadata": {
        "colab": {
          "base_uri": "https://localhost:8080/"
        },
        "id": "Sq4-N1BsHFCI",
        "outputId": "9a5e5e2e-3f50-472f-9711-4e77808066da"
      },
      "execution_count": 72,
      "outputs": [
        {
          "output_type": "execute_result",
          "data": {
            "text/plain": [
              "(39, 4.875, 8, 2)"
            ]
          },
          "metadata": {},
          "execution_count": 72
        }
      ]
    }
  ]
}